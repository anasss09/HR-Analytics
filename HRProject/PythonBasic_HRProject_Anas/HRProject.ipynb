{
 "cells": [
  {
   "cell_type": "code",
   "execution_count": null,
   "id": "7a3bc688",
   "metadata": {},
   "outputs": [],
   "source": [
    "#Importing lib numpy,matplotlib,pandas,seaborn\n",
    "\n",
    "import numpy as np\n",
    "import matplotlib.pyplot as plt\n",
    "import pandas as pd\n",
    "import seaborn as sns"
   ]
  },
  {
   "cell_type": "code",
   "execution_count": null,
   "id": "2d63361e",
   "metadata": {},
   "outputs": [],
   "source": [
    "train=pd.read_csv(\"trainhr.csv\")\n",
    "test=pd.read_csv(\"testhr.csv\")"
   ]
  },
  {
   "cell_type": "code",
   "execution_count": null,
   "id": "17133cd4",
   "metadata": {},
   "outputs": [],
   "source": [
    "#Getting the shape of test and train dataframes.\n",
    "print(\"Shape Train : \",train.shape)\n",
    "print(\"Shape Test : \",test.shape)"
   ]
  },
  {
   "cell_type": "code",
   "execution_count": null,
   "id": "034f5b64",
   "metadata": {},
   "outputs": [],
   "source": [
    "#Getting head of train and test(taking peek of data)\n",
    "pd.set_option('display.max_rows',15)\n",
    "pd.set_option('display.max_columns',20)\n",
    "pd.set_option('display.max_colwidth',15)\n",
    "pd.set_option('display.width',2000)\n",
    "train.head()"
   ]
  },
  {
   "cell_type": "code",
   "execution_count": null,
   "id": "a9c317f5",
   "metadata": {},
   "outputs": [],
   "source": [
    "test.head()"
   ]
  },
  {
   "cell_type": "code",
   "execution_count": null,
   "id": "769fb5cb",
   "metadata": {},
   "outputs": [],
   "source": [
    "#describe the train set\n",
    "print(train.describe())"
   ]
  },
  {
   "cell_type": "code",
   "execution_count": null,
   "id": "da075d51",
   "metadata": {},
   "outputs": [],
   "source": [
    "#describe the test set\n",
    "print(test.describe())"
   ]
  },
  {
   "cell_type": "code",
   "execution_count": null,
   "id": "c3303a1c",
   "metadata": {},
   "outputs": [],
   "source": [
    "#•\tGetting info of train\n",
    "train.info()"
   ]
  },
  {
   "cell_type": "code",
   "execution_count": null,
   "id": "e71daa6b",
   "metadata": {},
   "outputs": [],
   "source": [
    "#•\tGetting info of test\n",
    "test.info()"
   ]
  },
  {
   "cell_type": "code",
   "execution_count": null,
   "id": "737db030",
   "metadata": {},
   "outputs": [],
   "source": [
    "#•\tchecking if there is any NULL value in the dataset\n",
    "train.isnull().any()"
   ]
  },
  {
   "cell_type": "code",
   "execution_count": null,
   "id": "914a61d8",
   "metadata": {},
   "outputs": [],
   "source": [
    "#•\tchecking if there is any NULL value in the dataset\n",
    "test.isnull().any()"
   ]
  },
  {
   "cell_type": "code",
   "execution_count": null,
   "id": "04615fd9",
   "metadata": {},
   "outputs": [],
   "source": [
    "#Getting sum of null quantities\n",
    "train.isnull().sum()"
   ]
  },
  {
   "cell_type": "code",
   "execution_count": null,
   "id": "cbcbfb62",
   "metadata": {},
   "outputs": [],
   "source": [
    "#Getting sum of null quantities\n",
    "test.isnull().sum()"
   ]
  },
  {
   "cell_type": "code",
   "execution_count": null,
   "id": "e5550c1e",
   "metadata": {},
   "outputs": [],
   "source": [
    "#•\tlooking at the most popular departments\n",
    "from wordcloud import WordCloud\n",
    "from wordcloud import STOPWORDS"
   ]
  },
  {
   "cell_type": "code",
   "execution_count": null,
   "id": "a3bb0895",
   "metadata": {},
   "outputs": [],
   "source": [
    "stopWords = set(STOPWORDS)\n",
    "wordCloud = WordCloud(background_color=\"pink\",stopwords=stopWords).generate(str(train['department']))\n",
    "print(wordCloud)\n",
    "plt.rcParams['figure.figsize']= (10,8)\n",
    "plt.imshow(wordCloud)\n",
    "plt.title('Most Popular Departments',fontsize=40,color='red')\n",
    "plt.axis('off')\n",
    "plt.grid()\n",
    "plt.show()"
   ]
  },
  {
   "cell_type": "code",
   "execution_count": null,
   "id": "c4e95a87",
   "metadata": {},
   "outputs": [],
   "source": [
    "stopWords = set(STOPWORDS)\n",
    "wordCloud = WordCloud(background_color=\"cyan\",stopwords=stopWords).generate(str(test['department']))\n",
    "print(wordCloud)\n",
    "plt.rcParams['figure.figsize']= (10,8)\n",
    "plt.imshow(wordCloud)\n",
    "plt.title('Most Popular Departments',fontsize=40,color='violet')\n",
    "plt.axis('off')\n",
    "plt.grid()\n",
    "plt.show()"
   ]
  },
  {
   "cell_type": "code",
   "execution_count": null,
   "id": "6aa15616",
   "metadata": {},
   "outputs": [],
   "source": [
    "#•\tchecking the no. of Employees Promoted\n",
    "print(\"Employees Got Promoted : \",train['is_promoted'].value_counts())"
   ]
  },
  {
   "cell_type": "code",
   "execution_count": null,
   "id": "c70defa5",
   "metadata": {},
   "outputs": [],
   "source": [
    "# %age of Employees got promoted\n",
    "lst = train['is_promoted'].value_counts()\n",
    "promoted=(lst[1]/lst[0])*100\n",
    "print(\"Percentage of promoted Employees is {:.2f} : \".format(promoted))"
   ]
  },
  {
   "cell_type": "code",
   "execution_count": null,
   "id": "1beb4b84",
   "metadata": {},
   "outputs": [],
   "source": [
    "#plot over promoted employees\n",
    "plt.rcParams['figure.figsize']=(7,4)\n",
    "plt.hist(train['is_promoted'])\n",
    "plt.title(\"Plot to show the gap between promoted and non promoted employees\",fontsize=20)\n",
    "plt.xlabel(\"0 - No Promotion 1 - Promotion \",fontsize=20)\n",
    "plt.ylabel(\"Count\",fontsize=20)\n",
    "plt.grid()\n",
    "plt.show()"
   ]
  },
  {
   "cell_type": "code",
   "execution_count": null,
   "id": "8498a0da",
   "metadata": {},
   "outputs": [],
   "source": [
    "#•\tchecking the distribution of the avg_training score of the Employees\n",
    "plt.rcParams['figure.figsize']=(10,5)\n",
    "sns.histplot(train['avg_training_score'],color='cyan')\n",
    "plt.title(\"Distribution of avg_ training score of Employees\",fontsize=30)\n",
    "plt.xlabel(\"Average Training Score\",fontsize=20)\n",
    "plt.ylabel(\"Count\",fontsize=20)\n",
    "plt.show()"
   ]
  },
  {
   "cell_type": "code",
   "execution_count": null,
   "id": "93ccf257",
   "metadata": {},
   "outputs": [],
   "source": [
    "#•\tchecking the distribution of the avg_training score of the Employees\n",
    "plt.rcParams['figure.figsize']=(10,5)\n",
    "sns.histplot(test['avg_training_score'],color='cyan')\n",
    "plt.title(\"Distribution of avg_ training score of Employees\",fontsize=30)\n",
    "plt.xlabel(\"Average Training Score\",fontsize=20)\n",
    "plt.ylabel(\"Count\",fontsize=20)\n",
    "plt.show()"
   ]
  },
  {
   "cell_type": "code",
   "execution_count": null,
   "id": "11205ae3",
   "metadata": {},
   "outputs": [],
   "source": [
    "#Plot a donut  chart for visualizing %age of emp who won award\n",
    "size = train['awards_won?'].value_counts()\n",
    "colors= ['red','green']\n",
    "exp = [0,.1]\n",
    "labels = ['No Award won','Award won']\n",
    "Circle = plt.Circle((0,0),0.7,color='white')\n",
    "plt.rcParams['figure.figsize']=(8,8)\n",
    "plt.pie(size,labels=labels,colors=colors,autopct='%0.2f%%',explode=exp)\n",
    "plt.title(\"Percentage of Employees who won awards\",fontsize=30)\n",
    "p=plt.gcf()\n",
    "p.gca().add_artist(Circle)\n",
    "plt.legend()\n",
    "plt.show()"
   ]
  },
  {
   "cell_type": "code",
   "execution_count": null,
   "id": "213f7a0c",
   "metadata": {},
   "outputs": [],
   "source": [
    "#Plot a donut  chart for visualizing %age of emp who won award\n",
    "size = test['awards_won?'].value_counts()\n",
    "colors= ['red','green']\n",
    "exp = [0,.1]\n",
    "labels = ['No Award won','Award won']\n",
    "Circle = plt.Circle((0,0),0.7,color='white')\n",
    "plt.rcParams['figure.figsize']=(8,8)\n",
    "plt.pie(size,labels=labels,colors=colors,autopct='%0.2f%%',explode=exp)\n",
    "plt.title(\"Percentage of Employees who won awards\",fontsize=30)\n",
    "p=plt.gcf()\n",
    "p.gca().add_artist(Circle)\n",
    "plt.legend()\n",
    "plt.show()"
   ]
  },
  {
   "cell_type": "code",
   "execution_count": null,
   "id": "59f1a6ce",
   "metadata": {},
   "outputs": [],
   "source": [
    "#•\tchecking the distribution of the length of service\n",
    "plt.rcParams['figure.figsize']=(10,5)\n",
    "train.columns\n",
    "sns.displot(train['length_of_service'],color='lime')\n",
    "plt.title(\"Distribution of lenght service\",fontsize=30)\n",
    "plt.xlabel(\"Length of Service in year\",fontsize=20)\n",
    "plt.ylabel(\"Count\",fontsize=20)\n",
    "plt.grid()\n",
    "plt.show()"
   ]
  },
  {
   "cell_type": "code",
   "execution_count": null,
   "id": "318694f4",
   "metadata": {},
   "outputs": [],
   "source": [
    "#•\tchecking the distribution of the length of service\n",
    "plt.rcParams['figure.figsize']=(10,5)\n",
    "test.columns\n",
    "sns.displot(test['length_of_service'],color='lime')\n",
    "plt.title(\"Distribution of lenght service\",fontsize=30)\n",
    "plt.xlabel(\"Length of Service in year\",fontsize=20)\n",
    "plt.ylabel(\"Count\",fontsize=20)\n",
    "plt.grid()\n",
    "plt.show()"
   ]
  },
  {
   "cell_type": "code",
   "execution_count": null,
   "id": "4635ed29",
   "metadata": {},
   "outputs": [],
   "source": [
    "#•\tchecking the distribution of age of Employees in the company\n",
    "plt.rcParams['figure.figsize']=(10,5)\n",
    "sns.distplot(train['age'])\n",
    "plt.title(\"Distribution of age of Employees in the company\",fontsize=30)\n",
    "plt.xlabel(\"Age of Employees in a company\",fontsize=20)\n",
    "plt.ylabel(\"Density\",fontsize=20)\n",
    "plt.grid()\n",
    "plt.show()"
   ]
  },
  {
   "cell_type": "code",
   "execution_count": null,
   "id": "d21ef4a3",
   "metadata": {},
   "outputs": [],
   "source": [
    "#•\tchecking the distribution of age of Employees in the company\n",
    "plt.rcParams['figure.figsize']=(10,5)\n",
    "sns.distplot(test['age'])\n",
    "plt.title(\"Distribution of age of Employees in the company\",fontsize=30)\n",
    "plt.xlabel(\"Age of Employees in a company\",fontsize=20)\n",
    "plt.ylabel(\"Density\",fontsize=20)\n",
    "plt.grid()\n",
    "plt.show()"
   ]
  },
  {
   "cell_type": "code",
   "execution_count": null,
   "id": "a0daf46e",
   "metadata": {},
   "outputs": [],
   "source": [
    "#•\tchecking the different no. of training done by the employees (Train)\n",
    "plt.rcParams['figure.figsize']=(30,15)\n",
    "sns.countplot(data=train, x='avg_training_score')\n",
    "plt.title(\"Diffrent no. of training session completed by employees\",fontsize=50,color='red')\n",
    "plt.xlabel(\"Number of training session\",fontsize=40)\n",
    "plt.ylabel(\"Count\",fontsize=40)\n",
    "plt.grid()\n",
    "plt.show()"
   ]
  },
  {
   "cell_type": "code",
   "execution_count": null,
   "id": "4578c32a",
   "metadata": {},
   "outputs": [],
   "source": [
    "#•\tchecking the different no. of training done by the employees(Test)\n",
    "plt.rcParams['figure.figsize']=(30,15)\n",
    "sns.countplot(data=test, x='avg_training_score')\n",
    "plt.title(\"Diffrent no. of training session completed by employees\",fontsize=50,color='red')\n",
    "plt.xlabel(\"Number of training session\",fontsize=40)\n",
    "plt.ylabel(\"Count\",fontsize=40)\n",
    "plt.grid()\n",
    "plt.show()"
   ]
  },
  {
   "cell_type": "code",
   "execution_count": null,
   "id": "b3332960",
   "metadata": {},
   "outputs": [],
   "source": [
    "#•\tchecking/ the different types of recruitment channels for the company(train)\n",
    "plt.rcParams['figure.figsize']=(8,8)\n",
    "size=train['recruitment_channel'].value_counts()\n",
    "labels=['Sourcing','Other','Referred']\n",
    "color = ['blue','orange','green']\n",
    "plt.pie(size,labels=labels,colors=color,autopct='%0.2f%%')\n",
    "plt.title(\"Different types of recruitment channels\",fontsize=30)\n",
    "plt.show()"
   ]
  },
  {
   "cell_type": "code",
   "execution_count": null,
   "id": "4137e6f2",
   "metadata": {},
   "outputs": [],
   "source": [
    "#•\tchecking/ the different types of recruitment channels for the company(test)\n",
    "plt.rcParams['figure.figsize']=(8,8)\n",
    "size=test['recruitment_channel'].value_counts()\n",
    "labels=['Sourcing','Other','Referred']\n",
    "color = ['blue','orange','green']\n",
    "plt.pie(size,labels=labels,colors=color,autopct='%0.2f%%')\n",
    "plt.title(\"Different types of recruitment channels\",fontsize=30)\n",
    "plt.show()"
   ]
  },
  {
   "cell_type": "code",
   "execution_count": null,
   "id": "204295cf",
   "metadata": {},
   "outputs": [],
   "source": [
    "#•\tchecking the most popular education degree among the employees (Train)\n",
    "plt.rcParams['figure.figsize']=(10,5)\n",
    "sns.countplot(data=train, x='education')\n",
    "plt.title(\"Most popular education degree among the employees\",fontsize=25)\n",
    "plt.xlabel(\"Popular education degree\",fontsize=15)\n",
    "plt.ylabel(\"Count\",fontsize=15)\n",
    "plt.xticks(rotation=45)\n",
    "plt.show()"
   ]
  },
  {
   "cell_type": "code",
   "execution_count": null,
   "id": "e410da90",
   "metadata": {},
   "outputs": [],
   "source": [
    "#•\tchecking the most popular education degree among the employees (Test)\n",
    "plt.rcParams['figure.figsize']=(10,5)\n",
    "sns.countplot(data=test, x='education')\n",
    "plt.title(\"Most popular education degree among the employees\",fontsize=25)\n",
    "plt.xlabel(\"Popular education degree\",fontsize=15)\n",
    "plt.ylabel(\"Count\",fontsize=15)\n",
    "plt.xticks(rotation=45)\n",
    "plt.show()"
   ]
  },
  {
   "cell_type": "code",
   "execution_count": null,
   "id": "1ec12d25",
   "metadata": {},
   "outputs": [],
   "source": [
    "#•\tpie chart checking the gender gap (Train)\n",
    "plt.rcParams['figure.figsize']=(8,8)\n",
    "size = train['gender'].value_counts()\n",
    "color = ['red','green']\n",
    "exp=[0,.1]\n",
    "label = ['Males','Femails']\n",
    "plt.pie(size,labels=label,colors=color,autopct='%0.2f%%',explode=exp)\n",
    "plt.title(\"Percentage of Males and Femails in company\",fontsize=30)\n",
    "plt.legend()\n",
    "plt.show()"
   ]
  },
  {
   "cell_type": "code",
   "execution_count": null,
   "id": "f108ca2b",
   "metadata": {},
   "outputs": [],
   "source": [
    "#•\tpie chart checking the gender gap (Test)\n",
    "plt.rcParams['figure.figsize']=(8,8)\n",
    "size = test['gender'].value_counts()\n",
    "color = ['red','green']\n",
    "exp=[0,.1]\n",
    "label = ['Males','Femails']\n",
    "plt.pie(size,labels=label,colors=color,autopct='%0.2f%%',explode=exp)\n",
    "plt.title(\"Percentage of Males and Femails in company\",fontsize=30)\n",
    "plt.legend()\n",
    "plt.show()"
   ]
  },
  {
   "cell_type": "code",
   "execution_count": null,
   "id": "ce694b1d",
   "metadata": {},
   "outputs": [],
   "source": [
    "#•\tchecking the different regions of the company (Train)\n",
    "plt.rcParams['figure.figsize']=(20,10)\n",
    "sns.countplot(data=train, x='region')\n",
    "plt.xlabel(\"Regions\",fontsize=50)\n",
    "plt.ylabel(\"Count\",fontsize=50)\n",
    "plt.title(\"Different regions of the company\",fontsize=80)\n",
    "plt.xticks(rotation=90)\n",
    "plt.grid()\n",
    "plt.show()"
   ]
  },
  {
   "cell_type": "code",
   "execution_count": null,
   "id": "2b8cfc55",
   "metadata": {},
   "outputs": [],
   "source": [
    "#•\tchecking the different regions of the company (Test)\n",
    "plt.rcParams['figure.figsize']=(20,10)\n",
    "sns.countplot(data=test, x='region')\n",
    "plt.xlabel(\"Regions\",fontsize=50)\n",
    "plt.ylabel(\"Count\",fontsize=50)\n",
    "plt.title(\"Different regions of the company\",fontsize=80)\n",
    "plt.xticks(rotation=90)\n",
    "plt.grid()\n",
    "plt.show()"
   ]
  },
  {
   "cell_type": "code",
   "execution_count": null,
   "id": "b8ba1736",
   "metadata": {},
   "outputs": [],
   "source": [
    "#•\tscatter plot between average training score and is_promoted\n",
    "#plt.rcParams['figure.figsize']=(20,10)\n",
    "plt.scatter(train['avg_training_score'], train['is_promoted'], alpha=0.5)\n",
    "plt.xlabel('Average Training Score',fontsize=20)\n",
    "plt.ylabel('Is Promoted',fontsize=20)\n",
    "plt.title('Scatter plot: Average Training Score vs. Is Promoted',fontsize=30)\n",
    "plt.grid()\n",
    "plt.show()"
   ]
  },
  {
   "cell_type": "code",
   "execution_count": null,
   "id": "a4b8bac4",
   "metadata": {},
   "outputs": [],
   "source": [
    "# WHICH REGION EMPLOYEES ARE MOSTLY PROMOTED(Train)\n",
    "# The groupby function is used to group the data in the DataFrame 'train' by the unique values in the 'region' column.'sum()' is for calculate sum of all promotion group.\n",
    "promoted = train.groupby('region')['is_promoted'].sum().reset_index()\n",
    "# for descending order we can analyze which region is most promoted and which is low\n",
    "promoted = promoted.sort_values(by='is_promoted', ascending=False)\n",
    "sns.barplot(data=promoted, x='region', y='is_promoted')\n",
    "plt.rcParams['figure.figsize']=(10,5)\n",
    "plt.title(\"WHICH REGION EMPLOYEES ARE MOSTLY PROMOTED\",fontsize=30)\n",
    "plt.xlabel(\"Regions\",fontsize=20)\n",
    "plt.ylabel(\"Promotion\",fontsize=20)\n",
    "plt.xticks(rotation=90)\n",
    "plt.grid()\n",
    "plt.show()"
   ]
  },
  {
   "cell_type": "code",
   "execution_count": null,
   "id": "d6fd65b6",
   "metadata": {},
   "outputs": [],
   "source": [
    "#•\tdependency of awards won on promotion\n",
    "# creating cross tabulation between awardWon and isPromoted\n",
    "crossTab = pd.crosstab(train['awards_won?'], train['is_promoted'])\n",
    "# for promotion (1) not promoted (0)\n",
    "print('\\t' + \"Not Promoted(0)\"+ '\\t' + \"Promotion(1)\")\n",
    "print(crossTab)"
   ]
  },
  {
   "cell_type": "code",
   "execution_count": null,
   "id": "29abf54d",
   "metadata": {},
   "outputs": [],
   "source": [
    "#•\tchecking dependency of age factor in promotion of employees\n",
    "ageEx = [20,30,40,50,60,70]\n",
    "ageLabel = ['20-29','30-39','40-49','50-59','60-69']\n",
    "train['age'] = pd.cut(train['age'], bins = ageEx, labels=ageLabel)\n",
    "# Cross Tabulation\n",
    "ct = pd.crosstab(train['age'], train['is_promoted'])\n",
    "# for promotion (1) not promoted (0)\n",
    "print(ct)"
   ]
  },
  {
   "cell_type": "code",
   "execution_count": null,
   "id": "243a301c",
   "metadata": {},
   "outputs": [],
   "source": [
    "# checking which department got the greatest number of promotions\n",
    "# The groupby function is used to group the data in the DataFrame 'train' by the unique values in the 'department' column.'sum()' is for calculate sum of all promotion group.\n",
    "promoted = train.groupby('department')['is_promoted'].sum().reset_index()\n",
    "# for descending order we can analyze which Department is most promoted and which is low\n",
    "promoted = promoted.sort_values(by='is_promoted', ascending=False)\n",
    "sns.barplot(data=promoted, x='department', y='is_promoted')\n",
    "plt.rcParams['figure.figsize']=(10,5)\n",
    "plt.title(\"WHICH DEPARTMENT EMPLOYEES ARE MOSTLY PROMOTED\",fontsize=30)\n",
    "plt.xlabel(\"Department\",fontsize=20)\n",
    "plt.ylabel(\"Promotion\",fontsize=20)\n",
    "plt.xticks(rotation=45)\n",
    "plt.grid()\n",
    "plt.show()    "
   ]
  },
  {
   "cell_type": "code",
   "execution_count": null,
   "id": "2ef0e3ed",
   "metadata": {},
   "outputs": [],
   "source": [
    "#•\tchecking dependency of gender over promotion\n",
    "labels = ['males','femails']\n",
    "sns.countplot(data=train, x='gender', hue='is_promoted')\n",
    "plt.legend(title=\"Promoted\", labels =[\"Not Promoted\", \"Promoted\"])\n",
    "plt.title(\"Promotions by Gender\", fontsize=20)\n",
    "plt.xlabel(\"Gender\", fontsize=15)\n",
    "plt.ylabel(\"Count\", fontsize=15)\n",
    "plt.grid()\n",
    "plt.show()"
   ]
  },
  {
   "cell_type": "code",
   "execution_count": null,
   "id": "77edc3f7",
   "metadata": {},
   "outputs": [
    {
     "ename": "",
     "evalue": "",
     "output_type": "error",
     "traceback": [
      "\u001b[1;31mRunning cells with 'Python 3.13.2' requires the ipykernel package.\n",
      "\u001b[1;31m<a href='command:jupyter.createPythonEnvAndSelectController'>Create a Python Environment</a> with the required packages."
     ]
    }
   ],
   "source": [
    "df = pd.read_csv(\"D:\\Backup\\MyPythonCode\\ProjectPython\\HRProject\\PythonBasic_HRProject_Anas\\testhr.csv\")\n",
    "print(df.head())"
   ]
  },
  {
   "cell_type": "code",
   "execution_count": null,
   "id": "781db5f0",
   "metadata": {},
   "outputs": [],
   "source": []
  }
 ],
 "metadata": {
  "kernelspec": {
   "display_name": ".venv",
   "language": "python",
   "name": "python3"
  },
  "language_info": {
   "codemirror_mode": {
    "name": "ipython",
    "version": 3
   },
   "file_extension": ".py",
   "mimetype": "text/x-python",
   "name": "python",
   "nbconvert_exporter": "python",
   "pygments_lexer": "ipython3",
   "version": "3.13.2"
  }
 },
 "nbformat": 4,
 "nbformat_minor": 5
}
